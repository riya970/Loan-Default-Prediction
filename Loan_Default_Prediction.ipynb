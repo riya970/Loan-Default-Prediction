{
 "cells": [
  {
   "cell_type": "code",
   "execution_count": null,
   "id": "f248260a",
   "metadata": {},
   "outputs": [],
   "source": [
    "import pandas as pd\n",
    "import numpy as np\n",
    "import seaborn as sns\n",
    "import matplotlib as mt\n",
    "import seaborn as sns\n",
    "import matplotlib.pyplot as plt\n",
    "import warnings\n",
    "warnings.filterwarnings('ignore')"
   ]
  },
  {
   "cell_type": "code",
   "execution_count": null,
   "id": "7d3b5235",
   "metadata": {},
   "outputs": [],
   "source": [
    "df=pd.read_csv('application_data.csv')"
   ]
  },
  {
   "cell_type": "code",
   "execution_count": null,
   "id": "c80676e6",
   "metadata": {},
   "outputs": [],
   "source": [
    "df.head()"
   ]
  },
  {
   "cell_type": "code",
   "execution_count": null,
   "id": "f3d19b30",
   "metadata": {},
   "outputs": [],
   "source": [
    "# To prevent rows & columns being appended\n",
    "pd.set_option('display.max_rows', 500)\n",
    "pd.set_option('display.max_columns', 500)"
   ]
  },
  {
   "cell_type": "code",
   "execution_count": null,
   "id": "5009123a",
   "metadata": {
    "scrolled": false
   },
   "outputs": [],
   "source": [
    "df.tail()"
   ]
  },
  {
   "cell_type": "markdown",
   "id": "cf62ee00",
   "metadata": {},
   "source": [
    "# Preprocessing"
   ]
  },
  {
   "cell_type": "code",
   "execution_count": null,
   "id": "362a55df",
   "metadata": {},
   "outputs": [],
   "source": [
    "#df['AMT_ANNUITY']=df['AMT_ANNUITY'].astype(object)\n",
    "#df['AMT_INCOME_TOTAL']=df['AMT_INCOME_TOTAL'].astype(object)\n",
    "\n",
    "# Income left to the clients for consumption\n",
    "\n",
    "df['disp_income'] = df['AMT_INCOME_TOTAL'] - df['AMT_ANNUITY']"
   ]
  },
  {
   "cell_type": "code",
   "execution_count": null,
   "id": "ee842d57",
   "metadata": {},
   "outputs": [],
   "source": [
    "# Creating income bins\n",
    "income_new = [50000,100000,150000,200000,250000,300000,350000,400000,450000,500000,100000000]\n",
    "range_income = ['50000-100000','100000-150000','150000,200000','200000-250000', '250000-300000', '300000-350000','350000-400000',\n",
    "       '400000-450000','450000-500000','500000-100000000']\n",
    "\n",
    "df['AMT_INCOME_NEW']=pd.cut(df['AMT_INCOME_TOTAL'],income_new,labels=range_income)"
   ]
  },
  {
   "cell_type": "code",
   "execution_count": null,
   "id": "60326c49",
   "metadata": {},
   "outputs": [],
   "source": [
    "df.head()"
   ]
  },
  {
   "cell_type": "code",
   "execution_count": null,
   "id": "b06f3789",
   "metadata": {},
   "outputs": [],
   "source": [
    "#df.drop(labels='AMT_INCOME_TOTAL',axis=1,inplace=True)"
   ]
  },
  {
   "cell_type": "markdown",
   "id": "cef3c357",
   "metadata": {},
   "source": [
    "## Analysis of columns to be removed"
   ]
  },
  {
   "cell_type": "code",
   "execution_count": null,
   "id": "3c1b8855",
   "metadata": {},
   "outputs": [],
   "source": [
    "# Applicants are submitting only 1/21 documents and it's been observed that 70% \n",
    "# of the applicants are submitting 'FLAG_DOCUMENT_3'\n",
    "\n",
    "df['FLAG_DOCUMENT_3'].value_counts()/len(df)*100"
   ]
  },
  {
   "cell_type": "markdown",
   "id": "9737b7fe",
   "metadata": {},
   "source": [
    "## Removal of redundant columns"
   ]
  },
  {
   "cell_type": "code",
   "execution_count": null,
   "id": "2256092c",
   "metadata": {
    "scrolled": true
   },
   "outputs": [],
   "source": [
    "# Dropped all the columns of personal documents\n",
    "df1=df.drop(df.loc[:,'FLAG_DOCUMENT_2':'FLAG_DOCUMENT_21'].head(0).columns, axis=1)\n",
    "df1"
   ]
  },
  {
   "cell_type": "code",
   "execution_count": null,
   "id": "7146006a",
   "metadata": {},
   "outputs": [],
   "source": [
    "df1.drop(['DAYS_REGISTRATION', 'DAYS_ID_PUBLISH'], inplace=True, axis=1)"
   ]
  },
  {
   "cell_type": "code",
   "execution_count": null,
   "id": "df9377d4",
   "metadata": {},
   "outputs": [],
   "source": [
    "df1.head()"
   ]
  },
  {
   "cell_type": "markdown",
   "id": "2646858f",
   "metadata": {},
   "source": [
    "# Exploratory Data Analysis"
   ]
  },
  {
   "cell_type": "markdown",
   "id": "5f43bd80",
   "metadata": {},
   "source": [
    "## Quantitative Approach"
   ]
  },
  {
   "cell_type": "code",
   "execution_count": null,
   "id": "46d3e277",
   "metadata": {},
   "outputs": [],
   "source": [
    "# Description of all numerical variables\n",
    "df1.describe()"
   ]
  },
  {
   "cell_type": "code",
   "execution_count": null,
   "id": "e4b7d2e4",
   "metadata": {},
   "outputs": [],
   "source": [
    "# Description of all categorical variables\n",
    "df1.describe(include='object')"
   ]
  },
  {
   "cell_type": "code",
   "execution_count": null,
   "id": "88f5766c",
   "metadata": {
    "scrolled": true
   },
   "outputs": [],
   "source": [
    "#for col in df1.columns:\n",
    "    #print (col)"
   ]
  },
  {
   "cell_type": "code",
   "execution_count": null,
   "id": "a74f5237",
   "metadata": {},
   "outputs": [],
   "source": [
    "#for i in df1.columns:\n",
    "    #print(i,\":\",df1[i].unique())\n",
    "    #print('\\n')"
   ]
  },
  {
   "cell_type": "code",
   "execution_count": null,
   "id": "5fb85e7f",
   "metadata": {
    "scrolled": true
   },
   "outputs": [],
   "source": [
    "# Checking null values\n",
    "df1.isnull().sum()"
   ]
  },
  {
   "cell_type": "code",
   "execution_count": null,
   "id": "d74f8faf",
   "metadata": {
    "scrolled": true
   },
   "outputs": [],
   "source": [
    "df1['CODE_GENDER'].value_counts()/len(df1['CODE_GENDER'])*100"
   ]
  },
  {
   "cell_type": "raw",
   "id": "dfd14727",
   "metadata": {},
   "source": [
    "OBSERVATION: 66% of the data comprises of female clients"
   ]
  },
  {
   "cell_type": "markdown",
   "id": "f8395042",
   "metadata": {},
   "source": [
    "## Distributional Observations"
   ]
  },
  {
   "cell_type": "code",
   "execution_count": null,
   "id": "7fd0fce1",
   "metadata": {
    "scrolled": true
   },
   "outputs": [],
   "source": [
    "# Visualizing univariate dist. of data i.e. variable against the density\n",
    "\n",
    "numeric_cols = list(df1.select_dtypes(exclude=['object']).columns)\n",
    "for col in df1.columns:\n",
    "    if col in numeric_cols:\n",
    "        sns.displot(data=df1, x=col, kind='kde', fill=True, palette=sns.color_palette('bright'), height=5, aspect=2.5)\n",
    "        plt.show()"
   ]
  },
  {
   "cell_type": "markdown",
   "id": "8aaa6a66",
   "metadata": {},
   "source": [
    "# Univariate Analysis"
   ]
  },
  {
   "cell_type": "code",
   "execution_count": null,
   "id": "03c9e61d",
   "metadata": {},
   "outputs": [],
   "source": [
    "cat_cols = df1.select_dtypes(exclude = np.number)\n",
    "num_cols = df1.select_dtypes(include = np.number)"
   ]
  },
  {
   "cell_type": "code",
   "execution_count": null,
   "id": "2c070a02",
   "metadata": {},
   "outputs": [],
   "source": [
    "for i in num_cols.columns:\n",
    "    sns.boxplot(num_cols[i])\n",
    "    plt.show()"
   ]
  },
  {
   "cell_type": "raw",
   "id": "e7cecf1a",
   "metadata": {},
   "source": [
    "* The above visualization has been done to check data's symmetry, skew, variance, and outliers."
   ]
  },
  {
   "cell_type": "markdown",
   "id": "7916ef86",
   "metadata": {},
   "source": [
    "## Checking correlation"
   ]
  },
  {
   "cell_type": "code",
   "execution_count": null,
   "id": "98e55e94",
   "metadata": {},
   "outputs": [],
   "source": [
    "fig, ax = plt.subplots(figsize=(25, 15))\n",
    "sns.heatmap(df1.corr(),cmap=\"YlGnBu\", annot=True, ax=ax)\n",
    "plt.show()"
   ]
  },
  {
   "cell_type": "markdown",
   "id": "8b79be7c",
   "metadata": {},
   "source": [
    "### Dropping correlated columns"
   ]
  },
  {
   "cell_type": "code",
   "execution_count": null,
   "id": "0dd15bd0",
   "metadata": {},
   "outputs": [],
   "source": [
    "corr_thresh = 0.60\n",
    "\n",
    "cor_matrix = df1.corr().abs()\n",
    "upper_tri = cor_matrix.where(np.triu(np.ones(cor_matrix.shape),k=1).astype(bool))\n",
    "to_drop_cols = [column for column in upper_tri.columns if any(upper_tri[column] > corr_thresh)]\n",
    "\n",
    "df1.drop(columns=to_drop_cols,inplace=True)"
   ]
  },
  {
   "cell_type": "raw",
   "id": "162c8a91",
   "metadata": {},
   "source": [
    "Correlation coefficients whose magnitude are between 0.7 and 0.9 indicate variables which can be considered highly correlated."
   ]
  },
  {
   "cell_type": "code",
   "execution_count": null,
   "id": "6f76d05a",
   "metadata": {},
   "outputs": [],
   "source": [
    "df1.shape"
   ]
  },
  {
   "cell_type": "code",
   "execution_count": null,
   "id": "9de28b09",
   "metadata": {},
   "outputs": [],
   "source": [
    "df1.head()"
   ]
  },
  {
   "cell_type": "code",
   "execution_count": null,
   "id": "5f7456f5",
   "metadata": {},
   "outputs": [],
   "source": [
    "# Sanity check after dropping correlated columns\n",
    "fig, ax = plt.subplots(figsize=(40, 30))\n",
    "sns.heatmap(df1.corr(),cmap=\"YlGnBu\", annot=True, ax=ax)\n",
    "plt.show()"
   ]
  },
  {
   "cell_type": "markdown",
   "id": "cc79cc73",
   "metadata": {},
   "source": [
    "## Dropping Insignificant Variables"
   ]
  },
  {
   "cell_type": "code",
   "execution_count": null,
   "id": "6ff903f0",
   "metadata": {},
   "outputs": [],
   "source": [
    "# dropping null values columns based on missing values threshold\n",
    "null_percentage = df1.isnull().sum()/df1.shape[0]*100"
   ]
  },
  {
   "cell_type": "code",
   "execution_count": null,
   "id": "c6281aac",
   "metadata": {},
   "outputs": [],
   "source": [
    "col_to_drop = null_percentage[null_percentage>60].keys()\n",
    "\n",
    "output_df = df1.drop(col_to_drop, axis=1)"
   ]
  },
  {
   "cell_type": "code",
   "execution_count": null,
   "id": "79b86a1c",
   "metadata": {},
   "outputs": [],
   "source": [
    "df1.shape"
   ]
  },
  {
   "cell_type": "markdown",
   "id": "f1d80908",
   "metadata": {},
   "source": [
    "## Missing Value Treatment"
   ]
  },
  {
   "cell_type": "code",
   "execution_count": null,
   "id": "99292482",
   "metadata": {},
   "outputs": [],
   "source": [
    "df1['SK_ID_CURR']=df1['SK_ID_CURR'].astype(object)\n",
    "df1['CODE_GENDER']=df1['CODE_GENDER'].astype(object)\n",
    "df1['TARGET']=df1['TARGET'].astype(object)\n",
    "df1['FLAG_MOBIL']=df1['FLAG_MOBIL'].astype(object)\n",
    "df1['FLAG_WORK_PHONE']=df1['FLAG_WORK_PHONE'].astype(object)\n",
    "df1['FLAG_CONT_MOBILE']=df1['FLAG_CONT_MOBILE'].astype(object)\n",
    "df1['FLAG_PHONE']=df1['FLAG_PHONE'].astype(object)\n",
    "df1['FLAG_EMAIL']=df1['FLAG_EMAIL'].astype(object)\n",
    "df1['AMT_REQ_CREDIT_BUREAU_YEAR']=df1['AMT_REQ_CREDIT_BUREAU_YEAR'].astype(object)\n",
    "df1['AMT_REQ_CREDIT_BUREAU_QRT']=df1['AMT_REQ_CREDIT_BUREAU_QRT'].astype(object)\n",
    "df1['AMT_REQ_CREDIT_BUREAU_MON']=df1['AMT_REQ_CREDIT_BUREAU_MON'].astype(object)\n",
    "df1['AMT_REQ_CREDIT_BUREAU_WEEK']=df1['AMT_REQ_CREDIT_BUREAU_WEEK'].astype(object)\n",
    "df1['AMT_REQ_CREDIT_BUREAU_DAY']=df1['AMT_REQ_CREDIT_BUREAU_DAY'].astype(object)\n",
    "df1['AMT_REQ_CREDIT_BUREAU_HOUR']=df1['AMT_REQ_CREDIT_BUREAU_HOUR'].astype(object)\n",
    "df1['DEF_30_CNT_SOCIAL_CIRCLE']=df1['DEF_30_CNT_SOCIAL_CIRCLE'].astype(object)\n",
    "df1['OBS_30_CNT_SOCIAL_CIRCLE']=df1['OBS_30_CNT_SOCIAL_CIRCLE'].astype(object)\n",
    "df1['REG_REGION_NOT_LIVE_REGION']=df1['REG_REGION_NOT_LIVE_REGION'].astype(object)\n",
    "df1['REG_REGION_NOT_WORK_REGION']=df1['REG_REGION_NOT_WORK_REGION'].astype(object)\n",
    "df1['REG_CITY_NOT_LIVE_CITY']=df1['REG_CITY_NOT_LIVE_CITY'].astype(object)\n",
    "df1['REG_CITY_NOT_WORK_CITY']=df1['REG_CITY_NOT_WORK_CITY'].astype(object)"
   ]
  },
  {
   "cell_type": "code",
   "execution_count": null,
   "id": "499e655b",
   "metadata": {},
   "outputs": [],
   "source": [
    "df1.isnull().sum()"
   ]
  },
  {
   "cell_type": "code",
   "execution_count": null,
   "id": "7e053166",
   "metadata": {},
   "outputs": [],
   "source": [
    "#df1['APARTMENTS_AVG'].unique()"
   ]
  },
  {
   "cell_type": "code",
   "execution_count": null,
   "id": "dc35f564",
   "metadata": {
    "scrolled": true
   },
   "outputs": [],
   "source": [
    "#df1['AMT_REQ_CREDIT_BUREAU_HOUR'].value_counts()/len(df1['AMT_REQ_CREDIT_BUREAU_HOUR'])*100"
   ]
  },
  {
   "cell_type": "markdown",
   "id": "b4ea8eec",
   "metadata": {},
   "source": [
    "### Checking Skewness"
   ]
  },
  {
   "cell_type": "code",
   "execution_count": null,
   "id": "24282ff8",
   "metadata": {
    "scrolled": true
   },
   "outputs": [],
   "source": [
    "df1.skew(numeric_only=True)"
   ]
  },
  {
   "cell_type": "code",
   "execution_count": null,
   "id": "e8cd900d",
   "metadata": {},
   "outputs": [],
   "source": [
    "#df['EXT_SOURCE_2'].value_counts()"
   ]
  },
  {
   "cell_type": "markdown",
   "id": "fc285f2d",
   "metadata": {},
   "source": [
    "### Filling missing values with Mean/Median/Mode"
   ]
  },
  {
   "cell_type": "code",
   "execution_count": null,
   "id": "4741b566",
   "metadata": {},
   "outputs": [],
   "source": [
    "# Filling of categorical variables with modes\n",
    "a=['NAME_TYPE_SUITE','OCCUPATION_TYPE','AMT_REQ_CREDIT_BUREAU_HOUR','AMT_REQ_CREDIT_BUREAU_DAY',\n",
    "  'AMT_REQ_CREDIT_BUREAU_WEEK','AMT_REQ_CREDIT_BUREAU_MON','AMT_REQ_CREDIT_BUREAU_QRT','AMT_REQ_CREDIT_BUREAU_YEAR',\n",
    "  'OBS_30_CNT_SOCIAL_CIRCLE','DEF_30_CNT_SOCIAL_CIRCLE','FONDKAPREMONT_MODE','HOUSETYPE_MODE','HOUSETYPE_MODE',\n",
    "  'WALLSMATERIAL_MODE','EMERGENCYSTATE_MODE','disp_income','AMT_INCOME_NEW']\n",
    "for i in a:\n",
    "    df1[i] = df1[i].fillna(df1[i].mode()[0])"
   ]
  },
  {
   "cell_type": "code",
   "execution_count": null,
   "id": "4f1a0437",
   "metadata": {},
   "outputs": [],
   "source": [
    "# Filling mean values in numerical columns with moderate skewness\n",
    "b=['EXT_SOURCE_2','EXT_SOURCE_3','YEARS_BUILD_AVG','DAYS_LAST_PHONE_CHANGE',]\n",
    "for j in b:\n",
    "    df1[j] = df1[j].fillna(df1[j].mean())"
   ]
  },
  {
   "cell_type": "code",
   "execution_count": null,
   "id": "c08d4a55",
   "metadata": {},
   "outputs": [],
   "source": [
    "# Filling median values in numerical columns with high skewness\n",
    "c=['APARTMENTS_AVG','YEARS_BEGINEXPLUATATION_AVG', 'COMMONAREA_AVG', 'LANDAREA_AVG','NONLIVINGAPARTMENTS_AVG',\n",
    "  'NONLIVINGAREA_AVG','OWN_CAR_AGE']\n",
    "for k in c:\n",
    "    df1[k] = df1[k].fillna(df1[k].median())"
   ]
  },
  {
   "cell_type": "code",
   "execution_count": null,
   "id": "71cc7c17",
   "metadata": {
    "scrolled": true
   },
   "outputs": [],
   "source": [
    "df1.info()"
   ]
  },
  {
   "cell_type": "markdown",
   "id": "c31de497",
   "metadata": {},
   "source": [
    "## Univariate Visualization"
   ]
  },
  {
   "cell_type": "markdown",
   "id": "76231a30",
   "metadata": {},
   "source": [
    "### Observing categorical variables"
   ]
  },
  {
   "cell_type": "code",
   "execution_count": null,
   "id": "41f31cd1",
   "metadata": {},
   "outputs": [],
   "source": [
    "cat_cols.columns"
   ]
  },
  {
   "cell_type": "code",
   "execution_count": null,
   "id": "8106fe8e",
   "metadata": {
    "scrolled": true
   },
   "outputs": [],
   "source": [
    "cat_col = ['NAME_CONTRACT_TYPE', 'CODE_GENDER', 'FLAG_OWN_CAR', 'FLAG_OWN_REALTY',\n",
    "       'NAME_TYPE_SUITE', 'NAME_INCOME_TYPE', 'NAME_EDUCATION_TYPE',\n",
    "       'NAME_FAMILY_STATUS', 'NAME_HOUSING_TYPE', 'OCCUPATION_TYPE',\n",
    "       'WEEKDAY_APPR_PROCESS_START', 'FONDKAPREMONT_MODE',\n",
    "       'HOUSETYPE_MODE', 'WALLSMATERIAL_MODE', 'EMERGENCYSTATE_MODE']\n",
    "for i in cat_col:\n",
    "    sns.countplot(cat_cols[i], palette=\"Blues\")\n",
    "    plt.xticks(rotation=90)\n",
    "    plt.show()"
   ]
  },
  {
   "cell_type": "raw",
   "id": "343a8d12",
   "metadata": {},
   "source": [
    "* Cash loans have been issued more in proportion to revolving loans\n",
    "* Client data has females more in number\n",
    "* Majority of the overall clients have neither car nor property and are residing unaccompanied\n",
    "* Only a few clients have been awarded academic degrees\n",
    "* Most of them are laborers and sales staff, married living in house/apartments"
   ]
  },
  {
   "cell_type": "code",
   "execution_count": null,
   "id": "dce2ddb6",
   "metadata": {},
   "outputs": [],
   "source": [
    "df1.TARGET.value_counts().plot(kind='pie', subplots=True, \n",
    "autopct='%1.2f%%', explode= (0.05, 0.05), startangle=80, legend=True, fontsize=12, \n",
    "figsize=(14,6), textprops={'color':\"black\"})\n",
    "plt.legend([\"0: others\", \"1: client with payment difficulty\"]);"
   ]
  },
  {
   "cell_type": "markdown",
   "id": "e14343ed",
   "metadata": {},
   "source": [
    "## Bivariate/Multivariate Analysis"
   ]
  },
  {
   "cell_type": "markdown",
   "id": "411fba85",
   "metadata": {},
   "source": [
    "### 1. On the basis of \"amount credited as loan\""
   ]
  },
  {
   "cell_type": "code",
   "execution_count": null,
   "id": "18b35186",
   "metadata": {
    "scrolled": false
   },
   "outputs": [],
   "source": [
    "f, axes = plt.subplots(figsize=(8, 5), facecolor='white')\n",
    "sns.barplot(df1['NAME_CONTRACT_TYPE'], df1['AMT_CREDIT'], hue=df['TARGET'],ci=None, palette=\"ocean\")\n",
    "plt.show();"
   ]
  },
  {
   "cell_type": "raw",
   "id": "076ace69",
   "metadata": {},
   "source": [
    "* Though cash loans are good for borrowers as it is provided on lower borrowing costs & Predictable payments but has been a major cause of delinquencies for creditors."
   ]
  },
  {
   "cell_type": "code",
   "execution_count": null,
   "id": "94aaa65c",
   "metadata": {},
   "outputs": [],
   "source": [
    "f, axes = plt.subplots(figsize=(15, 5), facecolor='white')\n",
    "sns.barplot(df1['AMT_INCOME_NEW'], df1['AMT_CREDIT'], hue=df['TARGET'],ci=None, palette=\"ocean\")\n",
    "plt.xticks(rotation=90)\n",
    "plt.show();"
   ]
  },
  {
   "cell_type": "raw",
   "id": "fac9a181",
   "metadata": {},
   "source": [
    "* Clients in the income range of 450k-500k are facing more difficulty to replay the loan which is contradicting with their income range."
   ]
  },
  {
   "cell_type": "code",
   "execution_count": null,
   "id": "5c61acf8",
   "metadata": {
    "scrolled": true
   },
   "outputs": [],
   "source": [
    "f, axes = plt.subplots(figsize=(10, 5), facecolor='white')\n",
    "sns.barplot(df1['CODE_GENDER'], df1['disp_income'], hue=df['TARGET'],ci=None, palette=\"ocean\")\n",
    "plt.show();"
   ]
  },
  {
   "cell_type": "code",
   "execution_count": null,
   "id": "5288d447",
   "metadata": {},
   "outputs": [],
   "source": [
    "f, axes = plt.subplots(figsize=(10, 5), facecolor='white')\n",
    "sns.barplot(df1['CODE_GENDER'],df['AMT_CREDIT'],hue=df['TARGET'],ci=None, palette=\"ocean\")\n",
    "plt.show()"
   ]
  },
  {
   "cell_type": "raw",
   "id": "72c5cb2d",
   "metadata": {},
   "source": [
    "* Approximately equal amount of loan has been credited to females as of males even after having relatively lesser disposable income than males"
   ]
  },
  {
   "cell_type": "markdown",
   "id": "fee35980",
   "metadata": {},
   "source": [
    "### Why females have lesser disposable income than men?"
   ]
  },
  {
   "cell_type": "code",
   "execution_count": null,
   "id": "efeb16b8",
   "metadata": {},
   "outputs": [],
   "source": [
    "f, axes = plt.subplots(figsize=(10, 2), facecolor='white')\n",
    "sns.lineplot(df1['NAME_INCOME_TYPE'],df['AMT_CREDIT'],hue=df['TARGET'],ci=None, palette=\"ocean\")\n",
    "plt.xticks(rotation=90)\n",
    "plt.show()"
   ]
  },
  {
   "cell_type": "raw",
   "id": "63be235c",
   "metadata": {},
   "source": [
    "* US does not have a federal paid maternity due to which we can see that highest loan amount has been credited to females with maternal leave, followed by businessman in Target=1.\n",
    "* Also, second highest loans have been issued to unemployed people in Target=0, which is an irony"
   ]
  },
  {
   "cell_type": "code",
   "execution_count": null,
   "id": "4c83051b",
   "metadata": {
    "scrolled": true
   },
   "outputs": [],
   "source": [
    "f, axes = plt.subplots(figsize=(10, 5), facecolor='white')\n",
    "sns.barplot(df1['NAME_EDUCATION_TYPE'],df['AMT_CREDIT'],hue=df['TARGET'],ci=None, palette=\"ocean\")\n",
    "plt.xticks(rotation=90)\n",
    "plt.show()"
   ]
  },
  {
   "cell_type": "raw",
   "id": "394bb40c",
   "metadata": {},
   "source": [
    "* Clients with academic degrees have highest loans issued and are now facing difficulties to repay"
   ]
  },
  {
   "cell_type": "code",
   "execution_count": null,
   "id": "9752e08d",
   "metadata": {
    "scrolled": false
   },
   "outputs": [],
   "source": [
    "f, axes = plt.subplots(figsize=(7, 5), facecolor='white')\n",
    "sns.barplot(df1['FLAG_OWN_REALTY'], df1['AMT_CREDIT'], hue=df['TARGET'],ci=None, palette=\"ocean\")\n",
    "plt.show();"
   ]
  },
  {
   "cell_type": "raw",
   "id": "ed91dd28",
   "metadata": {},
   "source": [
    "There's no much difference in the credited loan of people with and without real estate properties."
   ]
  },
  {
   "cell_type": "code",
   "execution_count": null,
   "id": "18c8aeb1",
   "metadata": {
    "scrolled": true
   },
   "outputs": [],
   "source": [
    "f, axes = plt.subplots(figsize=(20, 5), facecolor='white')\n",
    "sns.barplot(df['AMT_INCOME_NEW'], df['AMT_ANNUITY'], hue=df1['TARGET'],ci=None, palette=\"ocean\")\n",
    "plt.show()"
   ]
  },
  {
   "cell_type": "code",
   "execution_count": null,
   "id": "76b5af3f",
   "metadata": {},
   "outputs": [],
   "source": [
    "sns.barplot(df1['HOUSETYPE_MODE'],df1['NONLIVINGAPARTMENTS_AVG'],hue=df1['TARGET'],ci=None, palette=\"ocean\")\n",
    "plt.show()"
   ]
  },
  {
   "cell_type": "raw",
   "id": "3110214c",
   "metadata": {},
   "source": [
    "Potential defaulters have highest non-living apartments.\n",
    "It is assumed that the clients lying in Target=1 are living on rents, when they have nonliving apartments in countryside."
   ]
  },
  {
   "cell_type": "markdown",
   "id": "5103f944",
   "metadata": {},
   "source": [
    "### 2. Separating the datasets for better visualization"
   ]
  },
  {
   "cell_type": "code",
   "execution_count": null,
   "id": "71392608",
   "metadata": {},
   "outputs": [],
   "source": [
    "target0 =df1.loc[df1[\"TARGET\"]==0]\n",
    "target1 =df1.loc[df1[\"TARGET\"]==1]"
   ]
  },
  {
   "cell_type": "markdown",
   "id": "b4000fbb",
   "metadata": {},
   "source": [
    "### 2.1 Risk analysis"
   ]
  },
  {
   "cell_type": "code",
   "execution_count": null,
   "id": "98e33ad2",
   "metadata": {
    "scrolled": true
   },
   "outputs": [],
   "source": [
    "f, axes = plt.subplots(figsize=(20, 5), facecolor='white')\n",
    "sns.barplot(target1['AMT_REQ_CREDIT_BUREAU_YEAR'],target1['AMT_CREDIT'],ci=None, palette=\"ocean\")\n",
    "plt.show()"
   ]
  },
  {
   "cell_type": "code",
   "execution_count": null,
   "id": "6f76d8b6",
   "metadata": {},
   "outputs": [],
   "source": [
    "f, axes = plt.subplots(figsize=(10, 5), facecolor='white')\n",
    "sns.barplot(target1['AMT_REQ_CREDIT_BUREAU_QRT'],target1['AMT_CREDIT'],ci=None, palette=\"ocean\")\n",
    "plt.show()"
   ]
  },
  {
   "cell_type": "raw",
   "id": "0e88ab3d",
   "metadata": {},
   "source": [
    "* Studies show that people with \"six or more\" hard inquiries on their credit reports can be up to eight times as likely to declare bankruptcy, compared to those with no inquiries."
   ]
  },
  {
   "cell_type": "code",
   "execution_count": null,
   "id": "86731ffc",
   "metadata": {},
   "outputs": [],
   "source": [
    "f, axes = plt.subplots(figsize=(7, 5), facecolor='white')\n",
    "sns.barplot(target1['DEF_30_CNT_SOCIAL_CIRCLE'],target1['AMT_CREDIT'],ci=None, palette=\"ocean\")\n",
    "plt.show()"
   ]
  },
  {
   "cell_type": "code",
   "execution_count": null,
   "id": "6d449504",
   "metadata": {
    "scrolled": false
   },
   "outputs": [],
   "source": [
    "f, axes = plt.subplots(figsize=(14, 5), facecolor='white')\n",
    "sns.barplot(target1['OBS_30_CNT_SOCIAL_CIRCLE'],target1['AMT_CREDIT'],ci=None, palette=\"ocean\")\n",
    "plt.show()"
   ]
  },
  {
   "cell_type": "raw",
   "id": "32d9ab50",
   "metadata": {},
   "source": [
    "OBS_30_CNT_SOCIAL_CIRCLE: How many observation of client's social surroundings with observable 30 DPD (days past due) default\n",
    "\n",
    "Assumption: Client's default with other revolving cards/loans."
   ]
  },
  {
   "cell_type": "code",
   "execution_count": null,
   "id": "82259ae8",
   "metadata": {},
   "outputs": [],
   "source": [
    "f, axes = plt.subplots(figsize=(23, 5), facecolor='white')\n",
    "sns.lineplot(target1['EXT_SOURCE_3'],target1['AMT_CREDIT'],ci=None, palette=\"ocean\")\n",
    "plt.show()\n",
    "\n",
    "# EXT_SOURCE_3: Normalized score from external data source"
   ]
  },
  {
   "cell_type": "raw",
   "id": "7546853f",
   "metadata": {},
   "source": [
    "* Assuming Normalized score from external data source as FICO/SRISE score\n",
    "Delinquent clients with low financial scores have amount credited more than median scores"
   ]
  },
  {
   "cell_type": "markdown",
   "id": "2ab81b26",
   "metadata": {},
   "source": [
    "### 2.2 Income Analysis"
   ]
  },
  {
   "cell_type": "code",
   "execution_count": null,
   "id": "9e33dbc6",
   "metadata": {},
   "outputs": [],
   "source": [
    "f, axes = plt.subplots(figsize=(5, 5), facecolor='white')\n",
    "sns.barplot(target1['NAME_CONTRACT_TYPE'], target1['disp_income'],ci=None, palette=\"ocean\")\n",
    "plt.show()"
   ]
  },
  {
   "cell_type": "raw",
   "id": "f1cdbcd9",
   "metadata": {},
   "source": [
    "* The disposable income of both clients (with cash & revolving loans) is varying less but the former have given higher amount of credit than latter."
   ]
  },
  {
   "cell_type": "code",
   "execution_count": null,
   "id": "cd2164ee",
   "metadata": {},
   "outputs": [],
   "source": [
    "f, axes = plt.subplots(figsize=(10, 5), facecolor='white')\n",
    "sns.barplot(target1['AMT_REQ_CREDIT_BUREAU_YEAR'], target1['AMT_INCOME_NEW'],ci=None, palette=\"ocean\")\n",
    "plt.show()"
   ]
  },
  {
   "cell_type": "raw",
   "id": "842e70a9",
   "metadata": {},
   "source": [
    "* Highest enquiries of clients with median income."
   ]
  },
  {
   "cell_type": "markdown",
   "id": "b4c2f631",
   "metadata": {},
   "source": [
    "### 2.3 Occupation Analysis"
   ]
  },
  {
   "cell_type": "code",
   "execution_count": null,
   "id": "3dc77ce4",
   "metadata": {},
   "outputs": [],
   "source": [
    "f, axes = plt.subplots(figsize=(25, 5), facecolor='white')\n",
    "sns.barplot(target1['ORGANIZATION_TYPE'],target1['AMT_CREDIT'],ci=None, palette=\"ocean\")\n",
    "plt.xticks(rotation=90)\n",
    "plt.show()"
   ]
  },
  {
   "cell_type": "raw",
   "id": "34e26f5e",
   "metadata": {},
   "source": [
    "* Industries, Insurance and Emergency are the organization types where highest loans have been credited."
   ]
  },
  {
   "cell_type": "markdown",
   "id": "cbdd710c",
   "metadata": {},
   "source": [
    "### 2.4 Demographic Analysis"
   ]
  },
  {
   "cell_type": "code",
   "execution_count": null,
   "id": "aacda60a",
   "metadata": {},
   "outputs": [],
   "source": [
    "f, axes = plt.subplots(figsize=(5, 5), facecolor='white')\n",
    "sns.barplot(target1['REGION_RATING_CLIENT'], target1['AMT_CREDIT'], hue=target1['TARGET'],ci=None, palette=\"ocean\")\n",
    "plt.show();"
   ]
  },
  {
   "cell_type": "raw",
   "id": "7b95db52",
   "metadata": {},
   "source": [
    "* People in region 1 have been given highest credits"
   ]
  },
  {
   "cell_type": "code",
   "execution_count": null,
   "id": "8cefd918",
   "metadata": {},
   "outputs": [],
   "source": [
    "f, axes = plt.subplots(figsize=(15, 5), facecolor='white')\n",
    "sns.lineplot(target1['LANDAREA_AVG'], target1['AMT_CREDIT'],ci=None, palette=\"ocean\")\n",
    "plt.show();"
   ]
  },
  {
   "cell_type": "raw",
   "id": "1960f2d7",
   "metadata": {},
   "source": [
    "* Clients with highest land-area have least amount credited as loans."
   ]
  },
  {
   "cell_type": "markdown",
   "id": "0e48f18e",
   "metadata": {},
   "source": [
    "## Checking normality of the data using histogram"
   ]
  },
  {
   "cell_type": "code",
   "execution_count": null,
   "id": "3eae140b",
   "metadata": {
    "scrolled": true
   },
   "outputs": [],
   "source": [
    "num_col=['CNT_CHILDREN', 'AMT_CREDIT',\n",
    "       'REGION_POPULATION_RELATIVE', 'DAYS_BIRTH', 'DAYS_REGISTRATION',\n",
    "       'DAYS_ID_PUBLISH', 'OWN_CAR_AGE', 'REGION_RATING_CLIENT',\n",
    "       'HOUR_APPR_PROCESS_START', 'EXT_SOURCE_2', 'EXT_SOURCE_3',\n",
    "       'APARTMENTS_AVG', 'YEARS_BUILD_AVG',\n",
    "       'COMMONAREA_AVG', 'LANDAREA_AVG', 'NONLIVINGAPARTMENTS_AVG',\n",
    "       'NONLIVINGAREA_AVG', 'DAYS_LAST_PHONE_CHANGE',\n",
    "       'AMT_REQ_CREDIT_BUREAU_HOUR', 'AMT_REQ_CREDIT_BUREAU_DAY',\n",
    "       'AMT_REQ_CREDIT_BUREAU_WEEK', 'AMT_REQ_CREDIT_BUREAU_MON',\n",
    "       'AMT_REQ_CREDIT_BUREAU_QRT', 'AMT_REQ_CREDIT_BUREAU_YEAR']\n",
    "for i in num_cols:\n",
    "    sns.histplot(num_cols[i],kde=True)\n",
    "    print('The Skewness of ', i ,'column is: ', num_cols[i].skew())\n",
    "    plt.show()"
   ]
  },
  {
   "cell_type": "markdown",
   "id": "33622034",
   "metadata": {},
   "source": [
    "## Automatic Report Generation"
   ]
  },
  {
   "cell_type": "code",
   "execution_count": null,
   "id": "5d1f5676",
   "metadata": {},
   "outputs": [],
   "source": [
    "import pandas as pd\n",
    "import pandas_profiling"
   ]
  },
  {
   "cell_type": "code",
   "execution_count": null,
   "id": "b55cec3e",
   "metadata": {},
   "outputs": [],
   "source": [
    "pandas_profiling.ProfileReport(df1)"
   ]
  },
  {
   "cell_type": "code",
   "execution_count": null,
   "id": "eb64cabb",
   "metadata": {},
   "outputs": [],
   "source": [
    "df1.shape"
   ]
  },
  {
   "cell_type": "code",
   "execution_count": null,
   "id": "2c72fb17",
   "metadata": {},
   "outputs": [],
   "source": [
    "#df1.to_excel('/Users/riyamehta/Desktop/App_New.xlsx')"
   ]
  },
  {
   "cell_type": "markdown",
   "id": "41031b16",
   "metadata": {},
   "source": [
    "## Conclusion"
   ]
  },
  {
   "cell_type": "raw",
   "id": "726e98eb",
   "metadata": {},
   "source": [
    "* Businessmen and unemployed people taking highest credits.\n",
    "* Due to recession and disruptions leading to higher economic losses, clients faced difficulty to pay\n",
    "* People with highest credit score are major defaulters\n"
   ]
  }
 ],
 "metadata": {
  "kernelspec": {
   "display_name": "Python 3 (ipykernel)",
   "language": "python",
   "name": "python3"
  },
  "language_info": {
   "codemirror_mode": {
    "name": "ipython",
    "version": 3
   },
   "file_extension": ".py",
   "mimetype": "text/x-python",
   "name": "python",
   "nbconvert_exporter": "python",
   "pygments_lexer": "ipython3",
   "version": "3.9.13"
  }
 },
 "nbformat": 4,
 "nbformat_minor": 5
}
